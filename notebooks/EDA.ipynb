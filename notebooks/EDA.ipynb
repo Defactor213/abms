{
 "cells": [
  {
   "cell_type": "markdown",
   "metadata": {},
   "source": [
    "<h1>EDA to get buyer and seller valuation</h1>"
   ]
  },
  {
   "cell_type": "code",
   "execution_count": 1,
   "metadata": {},
   "outputs": [],
   "source": [
    "import pandas as pd\n",
    "import numpy as np\n",
    "import matplotlib.pyplot as plt\n",
    "import seaborn as sns\n",
    "from sklearn.model_selection import train_test_split\n",
    "from sklearn.linear_model import LinearRegression\n",
    "from sklearn.metrics import mean_squared_error, r2_score"
   ]
  },
  {
   "cell_type": "code",
   "execution_count": 2,
   "metadata": {},
   "outputs": [],
   "source": [
    "# Load excel file into a DataFrame\n",
    "df = pd.read_excel(\"../datasets/resalepricesadjusted.xlsx\")\n",
    "\n",
    "df.head()\n",
    "df['Neighborhood score'] = df['Neighborhood score'].astype(float)\n",
    "df['flat_type'] = df['flat_type'].astype(float)\n",
    "df['remaining_lease'] = df['remaining_lease'].astype(float)\n",
    "df['resale_price'] = df['resale_price'].astype(float)\n",
    "df['mean price'] = df['mean price'].astype(float)\n",
    "df['ln_resale_price'] = df['ln_resale_price'].astype(float)\n",
    "df['ln_mean_price'] = df['ln_mean_price'].astype(float)"
   ]
  },
  {
   "cell_type": "code",
   "execution_count": 3,
   "metadata": {},
   "outputs": [],
   "source": [
    "# Group by 'month' and calculate the average resale price\n",
    "neighborhood_avg_resale_price = df.groupby('month')['resale_price'].transform('mean')\n",
    "\n",
    "# Create a new column 'average_resale_price' to store the average resale price for each neighborhood score\n",
    "df['average_resale_price'] = neighborhood_avg_resale_price"
   ]
  },
  {
   "cell_type": "code",
   "execution_count": 4,
   "metadata": {},
   "outputs": [
    {
     "data": {
      "text/html": [
       "<div>\n",
       "<style scoped>\n",
       "    .dataframe tbody tr th:only-of-type {\n",
       "        vertical-align: middle;\n",
       "    }\n",
       "\n",
       "    .dataframe tbody tr th {\n",
       "        vertical-align: top;\n",
       "    }\n",
       "\n",
       "    .dataframe thead th {\n",
       "        text-align: right;\n",
       "    }\n",
       "</style>\n",
       "<table border=\"1\" class=\"dataframe\">\n",
       "  <thead>\n",
       "    <tr style=\"text-align: right;\">\n",
       "      <th></th>\n",
       "      <th>month</th>\n",
       "      <th>town</th>\n",
       "      <th>Neighborhood score</th>\n",
       "      <th>flat_type</th>\n",
       "      <th>lease_commence_date</th>\n",
       "      <th>remaining_lease</th>\n",
       "      <th>resale_price</th>\n",
       "      <th>mean price</th>\n",
       "      <th>ln_resale_price</th>\n",
       "      <th>ln_mean_price</th>\n",
       "      <th>average_resale_price</th>\n",
       "    </tr>\n",
       "  </thead>\n",
       "  <tbody>\n",
       "    <tr>\n",
       "      <th>0</th>\n",
       "      <td>2017-01</td>\n",
       "      <td>ANG MO KIO</td>\n",
       "      <td>4.0</td>\n",
       "      <td>2.0</td>\n",
       "      <td>1979</td>\n",
       "      <td>61.0</td>\n",
       "      <td>232000.0</td>\n",
       "      <td>413971.21</td>\n",
       "      <td>12.35</td>\n",
       "      <td>12.933552</td>\n",
       "      <td>427506.98481</td>\n",
       "    </tr>\n",
       "    <tr>\n",
       "      <th>1</th>\n",
       "      <td>2017-01</td>\n",
       "      <td>ANG MO KIO</td>\n",
       "      <td>4.0</td>\n",
       "      <td>3.0</td>\n",
       "      <td>1978</td>\n",
       "      <td>60.0</td>\n",
       "      <td>250000.0</td>\n",
       "      <td>413971.21</td>\n",
       "      <td>12.43</td>\n",
       "      <td>12.933552</td>\n",
       "      <td>427506.98481</td>\n",
       "    </tr>\n",
       "    <tr>\n",
       "      <th>2</th>\n",
       "      <td>2017-01</td>\n",
       "      <td>ANG MO KIO</td>\n",
       "      <td>4.0</td>\n",
       "      <td>3.0</td>\n",
       "      <td>1980</td>\n",
       "      <td>62.0</td>\n",
       "      <td>262000.0</td>\n",
       "      <td>413971.21</td>\n",
       "      <td>12.48</td>\n",
       "      <td>12.933552</td>\n",
       "      <td>427506.98481</td>\n",
       "    </tr>\n",
       "    <tr>\n",
       "      <th>3</th>\n",
       "      <td>2017-01</td>\n",
       "      <td>ANG MO KIO</td>\n",
       "      <td>4.0</td>\n",
       "      <td>3.0</td>\n",
       "      <td>1980</td>\n",
       "      <td>62.0</td>\n",
       "      <td>265000.0</td>\n",
       "      <td>413971.21</td>\n",
       "      <td>12.49</td>\n",
       "      <td>12.933552</td>\n",
       "      <td>427506.98481</td>\n",
       "    </tr>\n",
       "    <tr>\n",
       "      <th>4</th>\n",
       "      <td>2017-01</td>\n",
       "      <td>ANG MO KIO</td>\n",
       "      <td>4.0</td>\n",
       "      <td>3.0</td>\n",
       "      <td>1980</td>\n",
       "      <td>62.0</td>\n",
       "      <td>265000.0</td>\n",
       "      <td>413971.21</td>\n",
       "      <td>12.49</td>\n",
       "      <td>12.933552</td>\n",
       "      <td>427506.98481</td>\n",
       "    </tr>\n",
       "  </tbody>\n",
       "</table>\n",
       "</div>"
      ],
      "text/plain": [
       "     month        town  Neighborhood score  flat_type  lease_commence_date  \\\n",
       "0  2017-01  ANG MO KIO                 4.0        2.0                 1979   \n",
       "1  2017-01  ANG MO KIO                 4.0        3.0                 1978   \n",
       "2  2017-01  ANG MO KIO                 4.0        3.0                 1980   \n",
       "3  2017-01  ANG MO KIO                 4.0        3.0                 1980   \n",
       "4  2017-01  ANG MO KIO                 4.0        3.0                 1980   \n",
       "\n",
       "   remaining_lease  resale_price  mean price  ln_resale_price  ln_mean_price  \\\n",
       "0             61.0      232000.0   413971.21            12.35      12.933552   \n",
       "1             60.0      250000.0   413971.21            12.43      12.933552   \n",
       "2             62.0      262000.0   413971.21            12.48      12.933552   \n",
       "3             62.0      265000.0   413971.21            12.49      12.933552   \n",
       "4             62.0      265000.0   413971.21            12.49      12.933552   \n",
       "\n",
       "   average_resale_price  \n",
       "0          427506.98481  \n",
       "1          427506.98481  \n",
       "2          427506.98481  \n",
       "3          427506.98481  \n",
       "4          427506.98481  "
      ]
     },
     "execution_count": 4,
     "metadata": {},
     "output_type": "execute_result"
    }
   ],
   "source": [
    "df.head()"
   ]
  },
  {
   "cell_type": "code",
   "execution_count": 5,
   "metadata": {},
   "outputs": [
    {
     "name": "stdout",
     "output_type": "stream",
     "text": [
      "month\n",
      "2017-01    1185\n",
      "2017-02    1085\n",
      "2017-03    1903\n",
      "2017-04    1839\n",
      "2017-05    1980\n",
      "           ... \n",
      "2023-11    2130\n",
      "2023-12    2007\n",
      "2024-01    2625\n",
      "2024-02    2128\n",
      "2024-03    1558\n",
      "Length: 87, dtype: int64\n"
     ]
    }
   ],
   "source": [
    "# Count the number of rows per month\n",
    "rows_per_month = df.groupby('month').size()\n",
    "\n",
    "# Print or use the result as needed\n",
    "print(rows_per_month)"
   ]
  },
  {
   "cell_type": "code",
   "execution_count": 6,
   "metadata": {},
   "outputs": [
    {
     "name": "stdout",
     "output_type": "stream",
     "text": [
      "2016.0689655172414\n"
     ]
    }
   ],
   "source": [
    "# Count the number of rows per month\n",
    "rows_per_month = df.groupby('month').size()\n",
    "\n",
    "# Calculate the average number of rows per month\n",
    "average_rows_per_month = rows_per_month.mean()\n",
    "\n",
    "# Print or use the result as needed\n",
    "print(average_rows_per_month)"
   ]
  },
  {
   "cell_type": "code",
   "execution_count": 8,
   "metadata": {},
   "outputs": [],
   "source": [
    "average_price_per_month = df.groupby('month')['resale_price'].mean()\n",
    "\n",
    "# Create a DataFrame to store the results\n",
    "result_df = pd.DataFrame({'month': average_price_per_month.index, 'average_resale_price': average_price_per_month.values})\n",
    "\n",
    "# Save the DataFrame as a CSV file\n",
    "result_df.to_csv('average_sales_price_per_month.csv', index=False)"
   ]
  },
  {
   "cell_type": "code",
   "execution_count": null,
   "metadata": {},
   "outputs": [],
   "source": []
  }
 ],
 "metadata": {
  "kernelspec": {
   "display_name": "base",
   "language": "python",
   "name": "python3"
  },
  "language_info": {
   "codemirror_mode": {
    "name": "ipython",
    "version": 3
   },
   "file_extension": ".py",
   "mimetype": "text/x-python",
   "name": "python",
   "nbconvert_exporter": "python",
   "pygments_lexer": "ipython3",
   "version": "3.11.7"
  }
 },
 "nbformat": 4,
 "nbformat_minor": 2
}
